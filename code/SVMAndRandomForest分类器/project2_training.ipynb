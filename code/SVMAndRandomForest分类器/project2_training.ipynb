{
 "cells": [
  {
   "cell_type": "code",
   "execution_count": 1,
   "metadata": {},
   "outputs": [],
   "source": [
    "#读取X.pickle和y.pickle文件，分别传递到特征项X和目标项y变量\n",
    "import pickle\n",
    "X = pickle.load(open(\"X.pickle\", \"rb\"))\n",
    "y = pickle.load(open(\"y.pickle\", \"rb\"))"
   ]
  },
  {
   "cell_type": "code",
   "execution_count": 2,
   "metadata": {},
   "outputs": [],
   "source": [
    "#导入相关的包\n",
    "from sklearn.neighbors import KNeighborsClassifier\n",
    "from sklearn.ensemble import RandomForestClassifier\n",
    "from sklearn.svm import SVC\n",
    "from sklearn.model_selection import train_test_split\n",
    "from sklearn.metrics import classification_report, confusion_matrix"
   ]
  },
  {
   "cell_type": "code",
   "execution_count": 4,
   "metadata": {},
   "outputs": [],
   "source": [
    "X_new = X.reshape(-1, X.shape[1] * X.shape[2])  #将特征项X的所有特征展平为一维\n",
    "X_train, X_test, y_train, y_test = train_test_split(X_new, y, test_size=0.2, random_state=42)   #将特征项X和目标相y拆分为训练集和测试集"
   ]
  },
  {
   "cell_type": "code",
   "execution_count": 21,
   "metadata": {},
   "outputs": [
    {
     "name": "stdout",
     "output_type": "stream",
     "text": [
      "              precision    recall  f1-score   support\n",
      "\n",
      "           0       0.21      0.20      0.20       248\n",
      "           1       0.30      0.29      0.29       376\n",
      "           2       0.31      0.11      0.17       255\n",
      "           3       0.20      0.43      0.27       240\n",
      "           4       0.28      0.19      0.23       299\n",
      "           5       0.23      0.24      0.23       227\n",
      "\n",
      "    accuracy                           0.24      1645\n",
      "   macro avg       0.26      0.24      0.23      1645\n",
      "weighted avg       0.26      0.24      0.24      1645\n",
      "\n",
      "[[ 49  49  16  71  32  31]\n",
      " [ 53 108  23 105  44  43]\n",
      " [ 39  59  29  69  36  23]\n",
      " [ 32  35   8 104  18  43]\n",
      " [ 40  51  12 101  56  39]\n",
      " [ 21  61   5  74  12  54]]\n"
     ]
    }
   ],
   "source": [
    "#用训练集训练KNN模型\n",
    "knn = KNeighborsClassifier(n_neighbors=10, metric='euclidean', p = 7)\n",
    "knn.fit(X_train, y_train)\n",
    "pred_knn = knn.predict(X_test)\n",
    "#查看模型的效果\n",
    "print(classification_report(y_test, pred_knn))\n",
    "print(confusion_matrix(y_test, pred_knn))"
   ]
  },
  {
   "cell_type": "code",
   "execution_count": 14,
   "metadata": {},
   "outputs": [
    {
     "name": "stdout",
     "output_type": "stream",
     "text": [
      "              precision    recall  f1-score   support\n",
      "\n",
      "           0       0.44      0.28      0.34       248\n",
      "           1       0.27      0.38      0.32       376\n",
      "           2       0.42      0.36      0.39       255\n",
      "           3       0.35      0.46      0.39       240\n",
      "           4       0.47      0.33      0.39       299\n",
      "           5       0.30      0.30      0.30       227\n",
      "\n",
      "    accuracy                           0.35      1645\n",
      "   macro avg       0.37      0.35      0.35      1645\n",
      "weighted avg       0.37      0.35      0.35      1645\n",
      "\n",
      "[[ 70  69  29  49  25   6]\n",
      " [ 21 141  34  43  35 102]\n",
      " [ 31  74  91  29  21   9]\n",
      " [ 12  41  34 110  24  19]\n",
      " [ 22  88  23  46  99  21]\n",
      " [  4 102   6  40   8  67]]\n"
     ]
    }
   ],
   "source": [
    "#用训练集训练随机森林模型\n",
    "rfc = RandomForestClassifier(n_estimators=200)\n",
    "rfc.fit(X_train, y_train)\n",
    "pred_rfc = rfc.predict(X_test)\n",
    "#查看模型的效果\n",
    "print(classification_report(y_test, pred_rfc))\n",
    "print(confusion_matrix(y_test, pred_rfc))"
   ]
  },
  {
   "cell_type": "code",
   "execution_count": 14,
   "metadata": {},
   "outputs": [
    {
     "name": "stdout",
     "output_type": "stream",
     "text": [
      "              precision    recall  f1-score   support\n",
      "\n",
      "           0       0.40      0.16      0.23       248\n",
      "           1       0.31      0.60      0.41       376\n",
      "           2       0.48      0.27      0.35       255\n",
      "           3       0.29      0.38      0.33       240\n",
      "           4       0.41      0.32      0.36       299\n",
      "           5       0.44      0.27      0.33       227\n",
      "\n",
      "    accuracy                           0.35      1645\n",
      "   macro avg       0.39      0.33      0.34      1645\n",
      "weighted avg       0.38      0.35      0.34      1645\n",
      "\n",
      "[[ 40 104  17  48  30   9]\n",
      " [ 17 227  25  46  39  22]\n",
      " [ 17 100  69  33  29   7]\n",
      " [  9  78  19  91  23  20]\n",
      " [ 12 111   9  51  95  21]\n",
      " [  6 103   4  40  13  61]]\n"
     ]
    }
   ],
   "source": [
    "#用训练集训练SVC模型\n",
    "clf = SVC()\n",
    "clf.fit(X_train, y_train)\n",
    "pred_clf = clf.predict(X_test)\n",
    "#查看模型的效果\n",
    "print(classification_report(y_test, pred_clf))\n",
    "print(confusion_matrix(y_test, pred_clf))"
   ]
  }
 ],
 "metadata": {
  "kernelspec": {
   "display_name": "env",
   "language": "python",
   "name": "python3"
  },
  "language_info": {
   "codemirror_mode": {
    "name": "ipython",
    "version": 3
   },
   "file_extension": ".py",
   "mimetype": "text/x-python",
   "name": "python",
   "nbconvert_exporter": "python",
   "pygments_lexer": "ipython3",
   "version": "3.8.10 (default, Jun 22 2022, 20:18:18) \n[GCC 9.4.0]"
  },
  "orig_nbformat": 4,
  "vscode": {
   "interpreter": {
    "hash": "06cac9530e3454264a4ba09bdaa868a96dd94658978a13a2473bd460817092c0"
   }
  }
 },
 "nbformat": 4,
 "nbformat_minor": 2
}
